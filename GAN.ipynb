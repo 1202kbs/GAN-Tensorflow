{
 "cells": [
  {
   "cell_type": "code",
   "execution_count": 1,
   "metadata": {
    "collapsed": true
   },
   "outputs": [],
   "source": [
    "import os\n",
    "\n",
    "import pprint\n",
    "import numpy as np\n",
    "import tensorflow as tf\n",
    "import matplotlib.pyplot as plt\n",
    "\n",
    "from model import GAN\n",
    "\n",
    "\n",
    "pp = pprint.PrettyPrinter()\n",
    "\n",
    "%matplotlib inline\n",
    "\n",
    "flags = tf.app.flags\n",
    "\n",
    "flags.DEFINE_integer('input_dim', 784, 'dimension of the discriminator input placeholder [784]')\n",
    "flags.DEFINE_integer('z_dim', 100, 'dimension of the generator input noise variable z [100]')\n",
    "flags.DEFINE_integer('batch_size', 128, 'batch size to use during training [128]')\n",
    "flags.DEFINE_integer('nepoch', 100, 'number of epochs to use during training [100]')\n",
    "flags.DEFINE_float('lr', 0.001, 'learning rate of the optimizer to use during training [0.001]')\n",
    "flags.DEFINE_float('max_grad_norm', 40, 'clip L2-norm of gradients to this threshold [40]')\n",
    "flags.DEFINE_string('checkpoint_dir', './checkpoints', 'checkpoint directory [./checkpoints]')\n",
    "flags.DEFINE_string('image_dir', './images', 'directory to save generated images to [./images]')\n",
    "flags.DEFINE_bool('use_adam', True, 'if True, use Adam optimizer; otherwise, use SGD [True]')\n",
    "flags.DEFINE_bool('show_progress', False, 'print progress [False]')\n",
    "\n",
    "FLAGS = flags.FLAGS"
   ]
  },
  {
   "cell_type": "code",
   "execution_count": null,
   "metadata": {},
   "outputs": [
    {
     "name": "stdout",
     "output_type": "stream",
     "text": [
      "Extracting MNIST_data\\train-images-idx3-ubyte.gz\n",
      "Extracting MNIST_data\\train-labels-idx1-ubyte.gz\n",
      "Extracting MNIST_data\\t10k-images-idx3-ubyte.gz\n",
      "Extracting MNIST_data\\t10k-labels-idx1-ubyte.gz\n",
      "{'G Loss': 9.2552679668773283, 'Epoch': 0, 'D Loss': 0.0078744006771670327}\n",
      "{'G Loss': 11.638047140517163, 'Epoch': 1, 'D Loss': 0.00020870829708954878}\n",
      "{'G Loss': 21.336428942380252, 'Epoch': 2, 'D Loss': 3.5788981218923553e-05}\n",
      "{'G Loss': 21.254218543881851, 'Epoch': 3, 'D Loss': 0.0014696906950955779}\n",
      "{'G Loss': 17.61657039046565, 'Epoch': 4, 'D Loss': 0.00010971523911564065}\n",
      "{'G Loss': 22.18678075172409, 'Epoch': 5, 'D Loss': 2.2056687183472926e-05}\n",
      "{'G Loss': 22.983032315483211, 'Epoch': 6, 'D Loss': 7.904330248486719e-06}\n",
      "{'G Loss': 20.324269648198484, 'Epoch': 7, 'D Loss': 0.00051731986271869469}\n",
      "{'G Loss': 21.575080182446747, 'Epoch': 8, 'D Loss': 8.4628909018763423e-05}\n",
      "{'G Loss': 19.432744537477998, 'Epoch': 9, 'D Loss': 0.0005517034431677183}\n",
      "{'G Loss': 22.302299248310774, 'Epoch': 10, 'D Loss': 3.8132007887397807e-05}\n",
      "{'G Loss': 20.81725553365855, 'Epoch': 11, 'D Loss': 0.00061987443633081877}\n",
      "{'G Loss': 21.28344262174237, 'Epoch': 12, 'D Loss': 0.00047614884489797718}\n",
      "{'G Loss': 17.982589108126966, 'Epoch': 13, 'D Loss': 0.00099309009273390917}\n",
      "{'G Loss': 15.80735297080798, 'Epoch': 14, 'D Loss': 0.0022281740816768605}\n",
      "{'G Loss': 14.373291935954072, 'Epoch': 15, 'D Loss': 0.002544006627160009}\n",
      "{'G Loss': 13.577147263747014, 'Epoch': 16, 'D Loss': 0.0038701381938263885}\n",
      "{'G Loss': 12.03510671451097, 'Epoch': 17, 'D Loss': 0.0096361886839912009}\n",
      "{'G Loss': 11.32255692137428, 'Epoch': 18, 'D Loss': 0.022904466099804809}\n",
      "{'G Loss': 9.9266126895006384, 'Epoch': 19, 'D Loss': 0.041273125688304435}\n",
      "{'G Loss': 8.3088809549113858, 'Epoch': 20, 'D Loss': 0.060550804219549482}\n",
      "{'G Loss': 7.276155175028979, 'Epoch': 21, 'D Loss': 0.087524165968152393}\n",
      "{'G Loss': 6.4952943163874037, 'Epoch': 22, 'D Loss': 0.09880023244290792}\n",
      "{'G Loss': 6.2627476567710705, 'Epoch': 23, 'D Loss': 0.11050965685162922}\n",
      "{'G Loss': 5.7556963078069847, 'Epoch': 24, 'D Loss': 0.12638143426575854}\n",
      "{'G Loss': 5.5748276855006376, 'Epoch': 25, 'D Loss': 0.12745238185831992}\n",
      "{'G Loss': 5.3380960056553919, 'Epoch': 26, 'D Loss': 0.1378248092872558}\n",
      "{'G Loss': 5.1354474693467269, 'Epoch': 27, 'D Loss': 0.14440076415251177}\n",
      "{'G Loss': 4.9530473733559672, 'Epoch': 28, 'D Loss': 0.15323200704212908}\n",
      "{'G Loss': 4.8313169418237116, 'Epoch': 29, 'D Loss': 0.15040169326297601}\n",
      "{'G Loss': 4.7727584233095053, 'Epoch': 30, 'D Loss': 0.15027159382100702}\n"
     ]
    }
   ],
   "source": [
    "with tf.Session() as sess:\n",
    "    model = GAN(FLAGS, sess)\n",
    "    model.build_model()\n",
    "    model.run()"
   ]
  },
  {
   "cell_type": "code",
   "execution_count": 2,
   "metadata": {},
   "outputs": [
    {
     "name": "stdout",
     "output_type": "stream",
     "text": [
      "Extracting MNIST_data\\train-images-idx3-ubyte.gz\n",
      "Extracting MNIST_data\\train-labels-idx1-ubyte.gz\n",
      "Extracting MNIST_data\\t10k-images-idx3-ubyte.gz\n",
      "Extracting MNIST_data\\t10k-labels-idx1-ubyte.gz\n",
      " [*] Reading Checkpoints...\n",
      "INFO:tensorflow:Restoring parameters from ./checkpoints\\GAN.model\n"
     ]
    }
   ],
   "source": [
    "with tf.Session() as sess:\n",
    "    model = GAN(FLAGS, sess)\n",
    "    model.build_model()\n",
    "    pred = model.generate(16)"
   ]
  },
  {
   "cell_type": "code",
   "execution_count": 3,
   "metadata": {},
   "outputs": [
    {
     "data": {
      "image/png": "[encoded data removed]",
      "text/plain": [
       "<matplotlib.figure.Figure at 0x1b95ba306d8>"
      ]
     },
     "metadata": {},
     "output_type": "display_data"
    }
   ],
   "source": [
    "plt.figure(figsize=(7, 7))\n",
    "\n",
    "for i in range(len(pred)):\n",
    "    img = pred[i]\n",
    "    plt.subplot(4, 4, i + 1)\n",
    "    plt.imshow(np.reshape(img, [28, 28]), interpolation='NONE', vmin=0, vmax=1, cmap=plt.get_cmap('gray'))\n",
    "\n",
    "plt.tight_layout()"
   ]
  },
  {
   "cell_type": "code",
   "execution_count": null,
   "metadata": {
    "collapsed": true
   },
   "outputs": [],
   "source": []
  }
 ],
 "metadata": {
  "kernelspec": {
   "display_name": "Python 3",
   "language": "python",
   "name": "python3"
  },
  "language_info": {
   "codemirror_mode": {
    "name": "ipython",
    "version": 3
   },
   "file_extension": ".py",
   "mimetype": "text/x-python",
   "name": "python",
   "nbconvert_exporter": "python",
   "pygments_lexer": "ipython3",
   "version": "3.5.3"
  }
 },
 "nbformat": 4,
 "nbformat_minor": 2
}
